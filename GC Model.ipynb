{
 "cells": [
  {
   "cell_type": "code",
   "execution_count": 1,
   "id": "e35da7dc",
   "metadata": {},
   "outputs": [],
   "source": [
    "# Importing Libraries\n",
    "# Import required libraries\n",
    " \n",
    "import warnings\n",
    "warnings.filterwarnings('ignore')\n",
    "import numpy as np\n",
    "import pandas as pd\n",
    "from sklearn.ensemble import GradientBoostingRegressor, RandomForestRegressor\n",
    "from sklearn import tree\n",
    "from sklearn.metrics import mean_squared_error, r2_score, accuracy_score\n",
    "%matplotlib inline\n",
    "import matplotlib.pyplot as plt\n",
    "import seaborn as sns\n",
    "import gradio as gr"
   ]
  },
  {
   "cell_type": "code",
   "execution_count": 2,
   "id": "e455af51",
   "metadata": {},
   "outputs": [],
   "source": [
    "#Loading Data as csv File\n",
    "# Load and preprocess the data\n",
    "data = pd.read_csv('MTN Data.csv')\n",
    "data = data.dropna()  # Remove missing values\n",
    "X = data.drop(['YEAR'], axis=1)\n",
    "X = data[['SN', 'TAG', 'MONTH']]\n",
    "y = data['GC']"
   ]
  },
  {
   "cell_type": "code",
   "execution_count": 3,
   "id": "94f011b0",
   "metadata": {},
   "outputs": [
    {
     "data": {
      "text/plain": [
       "273875"
      ]
     },
     "execution_count": 3,
     "metadata": {},
     "output_type": "execute_result"
    }
   ],
   "source": [
    "data.size"
   ]
  },
  {
   "cell_type": "code",
   "execution_count": 4,
   "id": "f905edfd",
   "metadata": {},
   "outputs": [
    {
     "data": {
      "text/html": [
       "<div>\n",
       "<style scoped>\n",
       "    .dataframe tbody tr th:only-of-type {\n",
       "        vertical-align: middle;\n",
       "    }\n",
       "\n",
       "    .dataframe tbody tr th {\n",
       "        vertical-align: top;\n",
       "    }\n",
       "\n",
       "    .dataframe thead th {\n",
       "        text-align: right;\n",
       "    }\n",
       "</style>\n",
       "<table border=\"1\" class=\"dataframe\">\n",
       "  <thead>\n",
       "    <tr style=\"text-align: right;\">\n",
       "      <th></th>\n",
       "      <th>SN</th>\n",
       "      <th>TAG</th>\n",
       "      <th>MONTH</th>\n",
       "      <th>YEAR</th>\n",
       "      <th>GC</th>\n",
       "    </tr>\n",
       "  </thead>\n",
       "  <tbody>\n",
       "    <tr>\n",
       "      <th>0</th>\n",
       "      <td>1</td>\n",
       "      <td>62040</td>\n",
       "      <td>12</td>\n",
       "      <td>2018</td>\n",
       "      <td>303</td>\n",
       "    </tr>\n",
       "    <tr>\n",
       "      <th>1</th>\n",
       "      <td>2</td>\n",
       "      <td>71812</td>\n",
       "      <td>12</td>\n",
       "      <td>2018</td>\n",
       "      <td>607</td>\n",
       "    </tr>\n",
       "    <tr>\n",
       "      <th>2</th>\n",
       "      <td>3</td>\n",
       "      <td>73466</td>\n",
       "      <td>12</td>\n",
       "      <td>2018</td>\n",
       "      <td>150</td>\n",
       "    </tr>\n",
       "    <tr>\n",
       "      <th>3</th>\n",
       "      <td>4</td>\n",
       "      <td>90540</td>\n",
       "      <td>12</td>\n",
       "      <td>2018</td>\n",
       "      <td>141</td>\n",
       "    </tr>\n",
       "    <tr>\n",
       "      <th>4</th>\n",
       "      <td>5</td>\n",
       "      <td>92071</td>\n",
       "      <td>12</td>\n",
       "      <td>2018</td>\n",
       "      <td>154</td>\n",
       "    </tr>\n",
       "  </tbody>\n",
       "</table>\n",
       "</div>"
      ],
      "text/plain": [
       "   SN    TAG  MONTH  YEAR   GC\n",
       "0   1  62040     12  2018  303\n",
       "1   2  71812     12  2018  607\n",
       "2   3  73466     12  2018  150\n",
       "3   4  90540     12  2018  141\n",
       "4   5  92071     12  2018  154"
      ]
     },
     "execution_count": 4,
     "metadata": {},
     "output_type": "execute_result"
    }
   ],
   "source": [
    "data.head()"
   ]
  },
  {
   "cell_type": "code",
   "execution_count": 5,
   "id": "4780d4e5",
   "metadata": {},
   "outputs": [
    {
     "name": "stdout",
     "output_type": "stream",
     "text": [
      "(54775, 5)\n"
     ]
    },
    {
     "data": {
      "text/html": [
       "<div>\n",
       "<style scoped>\n",
       "    .dataframe tbody tr th:only-of-type {\n",
       "        vertical-align: middle;\n",
       "    }\n",
       "\n",
       "    .dataframe tbody tr th {\n",
       "        vertical-align: top;\n",
       "    }\n",
       "\n",
       "    .dataframe thead th {\n",
       "        text-align: right;\n",
       "    }\n",
       "</style>\n",
       "<table border=\"1\" class=\"dataframe\">\n",
       "  <thead>\n",
       "    <tr style=\"text-align: right;\">\n",
       "      <th></th>\n",
       "      <th>count</th>\n",
       "      <th>mean</th>\n",
       "      <th>std</th>\n",
       "      <th>min</th>\n",
       "      <th>25%</th>\n",
       "      <th>50%</th>\n",
       "      <th>75%</th>\n",
       "      <th>max</th>\n",
       "    </tr>\n",
       "  </thead>\n",
       "  <tbody>\n",
       "    <tr>\n",
       "      <th>SN</th>\n",
       "      <td>54775.0</td>\n",
       "      <td>27388.000000</td>\n",
       "      <td>15812.324834</td>\n",
       "      <td>1.0</td>\n",
       "      <td>13694.5</td>\n",
       "      <td>27388.0</td>\n",
       "      <td>41081.5</td>\n",
       "      <td>54775.0</td>\n",
       "    </tr>\n",
       "    <tr>\n",
       "      <th>TAG</th>\n",
       "      <td>54775.0</td>\n",
       "      <td>62344.021908</td>\n",
       "      <td>23190.864090</td>\n",
       "      <td>33.0</td>\n",
       "      <td>53297.0</td>\n",
       "      <td>63112.0</td>\n",
       "      <td>77675.0</td>\n",
       "      <td>165786.0</td>\n",
       "    </tr>\n",
       "    <tr>\n",
       "      <th>MONTH</th>\n",
       "      <td>54775.0</td>\n",
       "      <td>6.120000</td>\n",
       "      <td>3.290258</td>\n",
       "      <td>1.0</td>\n",
       "      <td>3.0</td>\n",
       "      <td>6.0</td>\n",
       "      <td>9.0</td>\n",
       "      <td>12.0</td>\n",
       "    </tr>\n",
       "    <tr>\n",
       "      <th>YEAR</th>\n",
       "      <td>54775.0</td>\n",
       "      <td>2020.240000</td>\n",
       "      <td>1.335078</td>\n",
       "      <td>2018.0</td>\n",
       "      <td>2019.0</td>\n",
       "      <td>2020.0</td>\n",
       "      <td>2021.0</td>\n",
       "      <td>2023.0</td>\n",
       "    </tr>\n",
       "    <tr>\n",
       "      <th>GC</th>\n",
       "      <td>54775.0</td>\n",
       "      <td>128.936431</td>\n",
       "      <td>191.328045</td>\n",
       "      <td>1.0</td>\n",
       "      <td>31.0</td>\n",
       "      <td>90.0</td>\n",
       "      <td>151.0</td>\n",
       "      <td>2921.0</td>\n",
       "    </tr>\n",
       "  </tbody>\n",
       "</table>\n",
       "</div>"
      ],
      "text/plain": [
       "         count          mean           std     min      25%      50%      75%  \\\n",
       "SN     54775.0  27388.000000  15812.324834     1.0  13694.5  27388.0  41081.5   \n",
       "TAG    54775.0  62344.021908  23190.864090    33.0  53297.0  63112.0  77675.0   \n",
       "MONTH  54775.0      6.120000      3.290258     1.0      3.0      6.0      9.0   \n",
       "YEAR   54775.0   2020.240000      1.335078  2018.0   2019.0   2020.0   2021.0   \n",
       "GC     54775.0    128.936431    191.328045     1.0     31.0     90.0    151.0   \n",
       "\n",
       "            max  \n",
       "SN      54775.0  \n",
       "TAG    165786.0  \n",
       "MONTH      12.0  \n",
       "YEAR     2023.0  \n",
       "GC       2921.0  "
      ]
     },
     "execution_count": 5,
     "metadata": {},
     "output_type": "execute_result"
    }
   ],
   "source": [
    "# Data Description\n",
    "data.size\n",
    "print(data.shape)\n",
    "data.describe().transpose()"
   ]
  },
  {
   "cell_type": "code",
   "execution_count": 6,
   "id": "ebdef3ac",
   "metadata": {},
   "outputs": [],
   "source": [
    "# Splitting the Data into Training (80%) & Testing Dataset (20%)\n",
    "# Split the data into training and testing sets\n",
    "train_size = int(0.8 * len(data))\n",
    "X_train, X_test = X[:train_size], X[train_size:]\n",
    "y_train, y_test = y[:train_size], y[train_size:]"
   ]
  },
  {
   "cell_type": "code",
   "execution_count": 7,
   "id": "69ea5c99",
   "metadata": {},
   "outputs": [
    {
     "data": {
      "text/plain": [
       "RandomForestRegressor()"
      ]
     },
     "execution_count": 7,
     "metadata": {},
     "output_type": "execute_result"
    }
   ],
   "source": [
    "# Training Individual Models\n",
    "# Train the individual models\n",
    "gbm = GradientBoostingRegressor()\n",
    "rf = RandomForestRegressor()\n",
    " \n",
    "gbm.fit(X_train, y_train)\n",
    "rf.fit(X_train, y_train)"
   ]
  },
  {
   "cell_type": "code",
   "execution_count": 8,
   "id": "6fc0b55e",
   "metadata": {},
   "outputs": [
    {
     "data": {
      "text/plain": [
       "GradientBoostingRegressor()"
      ]
     },
     "execution_count": 8,
     "metadata": {},
     "output_type": "execute_result"
    }
   ],
   "source": [
    "# Stacking method\n",
    "y_pred_gbm = gbm.predict(X_test)\n",
    "y_pred_rf = rf.predict(X_test)\n",
    "X_test_combined = pd.concat([pd.Series(y_pred_gbm), pd.Series(y_pred_rf)], axis=1)\n",
    "hybrid_model = GradientBoostingRegressor()\n",
    "hybrid_model.fit(X_test_combined, y_test)"
   ]
  },
  {
   "cell_type": "code",
   "execution_count": 9,
   "id": "5adb87a1",
   "metadata": {},
   "outputs": [
    {
     "name": "stdout",
     "output_type": "stream",
     "text": [
      "RMSE of Hybrid Model: 84.60255261893968\n",
      "R2 Score of Hybrid Model: 0.13433157086422154\n"
     ]
    }
   ],
   "source": [
    "# Performance Evaluation for Hybrid Model\n",
    "# Evaluate the performance of the hybrid model\n",
    "y_pred_hybrid = hybrid_model.predict(X_test_combined)\n",
    "rmse_hybrid = mean_squared_error(y_test, y_pred_hybrid, squared=False)\n",
    "r2 = r2_score(y_test, y_pred_hybrid)\n",
    "print(\"RMSE of Hybrid Model:\", rmse_hybrid)\n",
    "print(\"R2 Score of Hybrid Model:\",r2)"
   ]
  },
  {
   "cell_type": "code",
   "execution_count": 10,
   "id": "e1df5834",
   "metadata": {},
   "outputs": [
    {
     "name": "stdout",
     "output_type": "stream",
     "text": [
      "RMSE of Gradient Boosting Model: 197.2150815715549\n",
      "RMSE of Random Forest Model: 83.14726837973612\n",
      "RMSE of Hybrid Model (Training): 58.175280521053075\n"
     ]
    }
   ],
   "source": [
    "# Performance Comparison with other Models\n",
    "# Compare the performance of the hybrid model with the individual models\n",
    "y_pred_gbm_train = gbm.predict(X_train)\n",
    "y_pred_rf_train = rf.predict(X_train)\n",
    "X_train_combined = pd.concat([pd.Series(y_pred_gbm_train), pd.Series(y_pred_rf_train)], axis=1)\n",
    "hybrid_model_train = GradientBoostingRegressor()\n",
    "hybrid_model_train.fit(X_train_combined, y_train)\n",
    "y_pred_hybrid_train = hybrid_model_train.predict(X_train_combined)\n",
    "rmse_gbm = mean_squared_error(y_train, y_pred_gbm_train, squared=False)\n",
    "rmse_rf = mean_squared_error(y_train, y_pred_rf_train, squared=False)\n",
    "rmse_hybrid_train = mean_squared_error(y_train, y_pred_hybrid_train, squared=False)\n",
    "print(\"RMSE of Gradient Boosting Model:\", rmse_gbm)\n",
    "print(\"RMSE of Random Forest Model:\", rmse_rf)\n",
    "print(\"RMSE of Hybrid Model (Training):\", rmse_hybrid_train)"
   ]
  },
  {
   "cell_type": "code",
   "execution_count": 12,
   "id": "e81eddc6",
   "metadata": {},
   "outputs": [
    {
     "name": "stdout",
     "output_type": "stream",
     "text": [
      "Running on local URL:  http://127.0.0.1:7869\n",
      "\n",
      "To create a public link, set `share=True` in `launch()`.\n"
     ]
    },
    {
     "data": {
      "text/html": [
       "<div><iframe src=\"http://127.0.0.1:7869/\" width=\"100%\" height=\"500\" allow=\"autoplay; camera; microphone; clipboard-read; clipboard-write;\" frameborder=\"0\" allowfullscreen></iframe></div>"
      ],
      "text/plain": [
       "<IPython.core.display.HTML object>"
      ]
     },
     "metadata": {},
     "output_type": "display_data"
    },
    {
     "data": {
      "text/plain": []
     },
     "execution_count": 12,
     "metadata": {},
     "output_type": "execute_result"
    }
   ],
   "source": [
    "# Gradio interface\n",
    "def stacking_model(sn, tag, month):\n",
    "    # Create a dataframe with the input values\n",
    "    input_data = pd.DataFrame({\n",
    "        'SN': [sn],\n",
    "        'TAG': [tag],\n",
    "        'MONTH': [month]\n",
    "    })\n",
    "\n",
    "    # Make predictions with the individual models\n",
    "    gbm_pred = gbm.predict(input_data)[0]\n",
    "    rf_pred = rf.predict(input_data)[0]\n",
    "\n",
    "    # Combine predictions for stacking\n",
    "    combined_pred = pd.Series([gbm_pred, rf_pred]).values.reshape(1, -1)\n",
    "\n",
    "    # Predict with the hybrid model\n",
    "    hybrid_pred = hybrid_model.predict(combined_pred)[0]\n",
    "\n",
    "    return int(hybrid_pred)\n",
    "\n",
    "iface = gr.Interface(\n",
    "    fn=stacking_model,\n",
    "    inputs=[\n",
    "        \"number\", \"number\", \"number\"\n",
    "    ],\n",
    "    outputs=\"number\",\n",
    "    live=True,\n",
    "    title=\"Hybrid Model Stacking Regressor Predictor\",\n",
    "    description=\"Predict GC using stacking method with Gradient Boosting and Random Forest\"\n",
    ")\n",
    "\n",
    "# Launch the Gradio interface\n",
    "iface.launch()"
   ]
  },
  {
   "cell_type": "code",
   "execution_count": null,
   "id": "1fbefb3d",
   "metadata": {},
   "outputs": [],
   "source": []
  }
 ],
 "metadata": {
  "kernelspec": {
   "display_name": "Python 3",
   "language": "python",
   "name": "python3"
  },
  "language_info": {
   "codemirror_mode": {
    "name": "ipython",
    "version": 3
   },
   "file_extension": ".py",
   "mimetype": "text/x-python",
   "name": "python",
   "nbconvert_exporter": "python",
   "pygments_lexer": "ipython3",
   "version": "3.8.8"
  }
 },
 "nbformat": 4,
 "nbformat_minor": 5
}
